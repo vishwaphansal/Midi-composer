{
 "cells": [
  {
   "cell_type": "code",
   "execution_count": null,
   "metadata": {},
   "outputs": [],
   "source": [
    "import torch\n",
    "from utils import CharRNN, sample, seq2csv\n",
    "import matplotlib.pyplot as plt\n",
    "from pprint import pprint"
   ]
  },
  {
   "cell_type": "markdown",
   "metadata": {},
   "source": [
    "# Load Model"
   ]
  },
  {
   "cell_type": "code",
   "execution_count": null,
   "metadata": {},
   "outputs": [],
   "source": [
    "checkpoint = torch.load(open('model/epoch_13158.pth', 'rb'), map_location='cpu')    \n",
    "net = CharRNN(checkpoint['tokens'], n_hidden=checkpoint['n_hidden'], n_layers=checkpoint['n_layers'])\n",
    "net.load_state_dict(checkpoint['state_dict'])"
   ]
  },
  {
   "cell_type": "code",
   "execution_count": null,
   "metadata": {
    "scrolled": true
   },
   "outputs": [],
   "source": [
    "loss_history = checkpoint['loss_history']\n",
    "plt.figure(figsize=(16,5))\n",
    "plt.semilogy(range(len(loss_history)), loss_history)\n",
    "plt.xlabel(\"epoch\")\n",
    "plt.ylabel(\"loss\");"
   ]
  },
  {
   "cell_type": "markdown",
   "metadata": {},
   "source": [
    "# Compose Music"
   ]
  },
  {
   "cell_type": "code",
   "execution_count": null,
   "metadata": {},
   "outputs": [],
   "source": [
    "# Config\n",
    "fname = 'mymusic'    # File save name\n",
    "prime = \"A4-512-512\" # Prime for the RNN\n",
    "top_k = 3            # Take top k prediction to randomly choose from\n",
    "compose_len = 1500   # Length of sequence to compose\n",
    "\n",
    "channel = [0]        # MIDI Channels"
   ]
  },
  {
   "cell_type": "code",
   "execution_count": null,
   "metadata": {},
   "outputs": [],
   "source": [
    "seqs = {}\n",
    "idx_retry = 0\n",
    "while True:\n",
    "    assert max(channel) <= 15\n",
    "    try:\n",
    "        for i in range(len(channel)):\n",
    "            seq = sample(net, compose_len, prime=prime, top_k=top_k)\n",
    "            seq = \" \".join(seq.split()[:-1])\n",
    "            seqs[i+1] = seq\n",
    "        seq2csv(seqs, fname, channel)\n",
    "        pprint(seqs)\n",
    "        break\n",
    "    except:\n",
    "        idx_retry += 1\n",
    "        print(f\"Retry music composing... [{idx_retry}]\")\n",
    "        if idx_retry == 10:\n",
    "            print(\"Music composition failed. Try to train the model longer\")            \n",
    "            break"
   ]
  }
 ],
 "metadata": {
  "kernelspec": {
   "display_name": "Python [conda env:jcop_pytorch]",
   "language": "python",
   "name": "conda-env-jcop_pytorch-py"
  },
  "language_info": {
   "codemirror_mode": {
    "name": "ipython",
    "version": 3
   },
   "file_extension": ".py",
   "mimetype": "text/x-python",
   "name": "python",
   "nbconvert_exporter": "python",
   "pygments_lexer": "ipython3",
   "version": "3.6.7"
  }
 },
 "nbformat": 4,
 "nbformat_minor": 2
}
